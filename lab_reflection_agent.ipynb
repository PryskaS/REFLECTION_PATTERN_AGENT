{
 "cells": [
  {
   "cell_type": "code",
   "execution_count": null,
   "id": "75d3bee5",
   "metadata": {},
   "outputs": [],
   "source": [
    "# We install the necessary libraries directly from the notebook.\n",
    "# The '!' allows us to run shell commands.\n",
    "!pip install openai python-dotenv"
   ]
  },
  {
   "cell_type": "code",
   "execution_count": null,
   "id": "ee51e92d",
   "metadata": {},
   "outputs": [],
   "source": [
    "import os\n",
    "from dotenv import load_dotenv\n",
    "\n",
    "# Import our custom agent class\n",
    "from reflection_pattern_agent.reflection_agent import ReflectionAgent\n",
    "\n",
    "# Load environment variables from the .env file\n",
    "# This is where we securely load our OPENAI_API_KEY\n",
    "load_dotenv()\n",
    "\n",
    "print(\"Libraries and agent class imported successfully.\")"
   ]
  },
  {
   "cell_type": "code",
   "execution_count": null,
   "id": "9e2757f1",
   "metadata": {},
   "outputs": [],
   "source": [
    "# 1. Instantiate the agent\n",
    "# This will automatically pick up the API key from the environment\n",
    "agent = ReflectionAgent()\n",
    "\n",
    "# 2. Define a simple prompt to test the generation\n",
    "test_prompt = \"Write a short, engaging tweet about the importance of MLOps.\"\n",
    "\n",
    "# 3. Call the generate method\n",
    "print(\"--- Calling the generate method... ---\")\n",
    "initial_draft = agent.generate(prompt=test_prompt)\n",
    "\n",
    "# 4. Print the result\n",
    "print(\"\\n--- Initial Draft Generated ---\")\n",
    "print(initial_draft)"
   ]
  },
  {
   "cell_type": "code",
   "execution_count": null,
   "id": "a42e570b",
   "metadata": {},
   "outputs": [],
   "source": [
    "# --- Full Cycle Integration Test ---\n",
    "\n",
    "# 1. Define a more complex task where reflection can make a real difference.\n",
    "complex_prompt = \"\"\"\n",
    "Write a short paragraph for a LinkedIn post announcing a new feature\n",
    "for our project management tool. The feature is an AI-powered assistant\n",
    "that automatically suggests the next task for a user based on their\n",
    "project's progress and priorities. Mention the key benefit:\n",
    "it helps reduce decision fatigue for team leads.\n",
    "\"\"\"\n",
    "\n",
    "# 2. Execute the full run cycle\n",
    "initial_draft, reflections, final_output = agent.run(prompt=complex_prompt)\n",
    "\n",
    "# 3. Analyze the results\n",
    "print(\"\\n\" + \"=\"*50)\n",
    "print(\"INITIAL DRAFT\")\n",
    "print(\"=\"*50)\n",
    "print(initial_draft)\n",
    "\n",
    "print(\"\\n\" + \"=\"*50)\n",
    "print(\"REFLECTIONS\")\n",
    "print(\"=\"*50)\n",
    "# Print reflections as a bulleted list\n",
    "for r in reflections:\n",
    "    print(f\"- {r}\")\n",
    "\n",
    "print(\"\\n\" + \"=\"*50)\n",
    "print(\"FINAL REFINED OUTPUT\")\n",
    "print(\"=\"*50)\n",
    "print(final_output)"
   ]
  }
 ],
 "metadata": {
  "kernelspec": {
   "display_name": "reflection_agent",
   "language": "python",
   "name": "python3"
  },
  "language_info": {
   "codemirror_mode": {
    "name": "ipython",
    "version": 3
   },
   "file_extension": ".py",
   "mimetype": "text/x-python",
   "name": "python",
   "nbconvert_exporter": "python",
   "pygments_lexer": "ipython3",
   "version": "3.12.3"
  }
 },
 "nbformat": 4,
 "nbformat_minor": 5
}
